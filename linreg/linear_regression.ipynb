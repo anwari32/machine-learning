{
 "cells": [
  {
   "cell_type": "code",
   "execution_count": null,
   "metadata": {},
   "outputs": [],
   "source": [
    "# use LinearRegression\n",
    "from sklearn.linear_model import LinearRegression\n",
    "regressor = LinearRegression()\n",
    "regressor = regressor.fit(xss, ys)\n",
    "print(\"reg score\", regressor.score(xss, ys))\n",
    "print(\"coff\", regressor.coef_)\n"
   ]
  },
  {
   "cell_type": "code",
   "execution_count": null,
   "metadata": {},
   "outputs": [],
   "source": [
    "from tqdm import tqdm\n",
    "\n",
    "class LinearRegression:\n",
    "    def __init__(self, learning_rate=0.0001, bias=0.0):\n",
    "        self.learning_rate = learning_rate\n",
    "        self.bias = bias\n",
    "        self.weightA = 0.0\n",
    "        self.weightB = 0.0\n",
    "\n",
    "    def __str__(self):\n",
    "        return f\"y = {self.weightA}x1 + {self.weightA}x2 + {self.bias}\"\n",
    "    \n",
    "    def forward(self, x1, x2):\n",
    "        return (self.weightA * x1) + (self.weightB * x2) + self.bias\n",
    "    \n",
    "\n",
    "    def backward(self, x1, x2, y, yhat):\n",
    "        dz_over_dy = y - yhat\n",
    "        self.weightA -= self.learning_rate * dz_over_dy * x1\n",
    "        self.weightB -= self.learning_rate * dz_over_dy * x2\n",
    "        self.bias -= self.learning_rate * dz_over_dy\n",
    "\n",
    "    def fit(self, xss, ys):\n",
    "        for x, y in zip(xss, ys):\n",
    "            x1, x2 = x[0], x[1]\n",
    "            yhat = self.forward(x1, x2)\n",
    "            self.backward(x1, x2, y, yhat)\n",
    "\n",
    "    def R_score(self, xss, ys):\n",
    "        u, v = 0.0, 0.0\n",
    "        y_mean = sum(ys / len(ys))\n",
    "        for x, y in zip(xss, ys):\n",
    "            x1, x2 = x[0], x[1]\n",
    "            yhat = self.forward(x1, x2)\n",
    "            u += ((y - yhat)**2)\n",
    "            v += ((y - y_mean)**2)\n",
    "        \n",
    "        return 1 - (u/v)\n",
    "            \n",
    "        "
   ]
  },
  {
   "attachments": {},
   "cell_type": "markdown",
   "metadata": {},
   "source": [
    "### Initialize data"
   ]
  },
  {
   "cell_type": "code",
   "execution_count": 1,
   "metadata": {},
   "outputs": [
    {
     "name": "stdout",
     "output_type": "stream",
     "text": [
      "(47, 2) (47,)\n"
     ]
    }
   ],
   "source": [
    "import pandas as pd\n",
    "\n",
    "df = pd.read_csv(\"data.csv\")\n",
    "print(\"shape\", df.shape)\n",
    "print(\"head\", df.head(5))\n",
    "\n",
    "# since price is too large, we might want to simplify a bit.\n",
    "df[\"price_small\"] = df[\"price\"] / 100\n",
    "\n",
    "xss = df[[\"size\", \"num_bedroom\"]].to_numpy().tolist()\n",
    "ys = df[\"price\"].tolist()\n",
    "\n",
    "print(xss)\n",
    "print(ys)\n"
   ]
  },
  {
   "attachments": {},
   "cell_type": "markdown",
   "metadata": {},
   "source": [
    "### Initialize linear model."
   ]
  },
  {
   "cell_type": "code",
   "execution_count": 2,
   "metadata": {},
   "outputs": [
    {
     "name": "stdout",
     "output_type": "stream",
     "text": [
      "# features 2\n",
      "Learning rate 1e-05\n",
      "Bias 0\n",
      "Weights [0. 0.]\n"
     ]
    }
   ],
   "source": [
    "from model import Linear_Regression_Model\n",
    "\n",
    "lr_model = Linear_Regression_Model(xs.shape[1])\n",
    "print(lr_model)"
   ]
  },
  {
   "cell_type": "code",
   "execution_count": 3,
   "metadata": {},
   "outputs": [
    {
     "ename": "AttributeError",
     "evalue": "'str' object has no attribute 'shape'",
     "output_type": "error",
     "traceback": [
      "\u001b[1;31m---------------------------------------------------------------------------\u001b[0m",
      "\u001b[1;31mAttributeError\u001b[0m                            Traceback (most recent call last)",
      "Cell \u001b[1;32mIn[3], line 1\u001b[0m\n\u001b[1;32m----> 1\u001b[0m \u001b[43mlr_model\u001b[49m\u001b[38;5;241;43m.\u001b[39;49m\u001b[43mtrain\u001b[49m\u001b[43m(\u001b[49m\u001b[43mxs\u001b[49m\u001b[43m,\u001b[49m\u001b[43m \u001b[49m\u001b[43mys\u001b[49m\u001b[43m)\u001b[49m\n",
      "File \u001b[1;32md:\\Workspace\\research\\machine-learning\\linreg\\model.py:56\u001b[0m, in \u001b[0;36mLinear_Regression_Model.train\u001b[1;34m(self, xs, ys, upper_error, lower_error)\u001b[0m\n\u001b[0;32m     54\u001b[0m num_iter \u001b[38;5;241m+\u001b[39m\u001b[38;5;241m=\u001b[39m \u001b[38;5;241m1\u001b[39m\n\u001b[0;32m     55\u001b[0m \u001b[38;5;28;01mfor\u001b[39;00m x \u001b[38;5;129;01min\u001b[39;00m xs:\n\u001b[1;32m---> 56\u001b[0m     y_hats \u001b[38;5;241m=\u001b[39m \u001b[38;5;28;43mself\u001b[39;49m\u001b[38;5;241;43m.\u001b[39;49m\u001b[43mforward_vectorized\u001b[49m\u001b[43m(\u001b[49m\u001b[43mx\u001b[49m\u001b[43m)\u001b[49m\n\u001b[0;32m     57\u001b[0m     error_val \u001b[38;5;241m=\u001b[39m \u001b[38;5;28mself\u001b[39m\u001b[38;5;241m.\u001b[39mmean_squared_error(y_hats, ys)\n\u001b[0;32m     58\u001b[0m     \u001b[38;5;28;01mif\u001b[39;00m \u001b[38;5;129;01mnot\u001b[39;00m(error_val \u001b[38;5;241m<\u001b[39m\u001b[38;5;241m=\u001b[39m upper_error \u001b[38;5;129;01mand\u001b[39;00m error_val \u001b[38;5;241m>\u001b[39m\u001b[38;5;241m=\u001b[39m lower_error):\n\u001b[0;32m     59\u001b[0m         \u001b[38;5;66;03m# backpropagation.\u001b[39;00m\n",
      "File \u001b[1;32md:\\Workspace\\research\\machine-learning\\linreg\\model.py:29\u001b[0m, in \u001b[0;36mLinear_Regression_Model.forward_vectorized\u001b[1;34m(self, xs)\u001b[0m\n\u001b[0;32m     28\u001b[0m \u001b[38;5;28;01mdef\u001b[39;00m\u001b[38;5;250m \u001b[39m\u001b[38;5;21mforward_vectorized\u001b[39m(\u001b[38;5;28mself\u001b[39m, xs):\n\u001b[1;32m---> 29\u001b[0m     \u001b[38;5;28;01massert\u001b[39;00m \u001b[38;5;28mself\u001b[39m\u001b[38;5;241m.\u001b[39mweight\u001b[38;5;241m.\u001b[39mshape \u001b[38;5;241m==\u001b[39m \u001b[43mxs\u001b[49m\u001b[38;5;241;43m.\u001b[39;49m\u001b[43mshape\u001b[49m, \u001b[38;5;124m\"\u001b[39m\u001b[38;5;124minput shape not match with weights shape.\u001b[39m\u001b[38;5;124m\"\u001b[39m\n\u001b[0;32m     30\u001b[0m     y_hats \u001b[38;5;241m=\u001b[39m np\u001b[38;5;241m.\u001b[39mdot(\u001b[38;5;28mself\u001b[39m\u001b[38;5;241m.\u001b[39mweight, xs)\n\u001b[0;32m     31\u001b[0m     y_hats \u001b[38;5;241m+\u001b[39m\u001b[38;5;241m=\u001b[39m \u001b[38;5;28mself\u001b[39m\u001b[38;5;241m.\u001b[39mbias\n",
      "\u001b[1;31mAttributeError\u001b[0m: 'str' object has no attribute 'shape'"
     ]
    }
   ],
   "source": [
    "lr_model.train(xs, ys)"
   ]
  }
 ],
 "metadata": {
  "kernelspec": {
   "display_name": ".venv",
   "language": "python",
   "name": "python3"
  },
  "language_info": {
   "codemirror_mode": {
    "name": "ipython",
    "version": 3
   },
   "file_extension": ".py",
   "mimetype": "text/x-python",
   "name": "python",
   "nbconvert_exporter": "python",
   "pygments_lexer": "ipython3",
   "version": "3.12.8"
  },
  "orig_nbformat": 4
 },
 "nbformat": 4,
 "nbformat_minor": 2
}
