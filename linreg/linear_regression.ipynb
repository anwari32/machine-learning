{
 "cells": [
  {
   "cell_type": "code",
   "execution_count": 31,
   "metadata": {},
   "outputs": [],
   "source": [
    "import numpy as np\n",
    "\n",
    "class Linear_Regression_Model:\n",
    "    def __init__(self, n_feature, learning_rate=0.00001, bias=0):\n",
    "        self.weight = np.zeros(n_feature)\n",
    "        self.learning_rate = learning_rate\n",
    "        self.bias = bias\n",
    "\n",
    "    def __str__(self):\n",
    "        desc = \"# features {}\".format(self.weight.shape[0])\n",
    "        desc += '\\n' + \"Learning rate {}\".format(self.learning_rate)\n",
    "        desc += '\\n' + \"Bias {}\".format(self.bias)\n",
    "        return desc\n",
    "\n",
    "    # simple linear regression.\n",
    "    def forward(self, xs):\n",
    "        # compute linear combination of w and x\n",
    "        # length of w and x must be the same.\n",
    "        assert self.weight.shape == xs.shape, \"input shape not match with weights shape.\"\n",
    "        y_hat = 0\n",
    "        for (_w, _x) in zip(self.weight, xs):\n",
    "            y_hat += (_w * _x)\n",
    "        \n",
    "        y_hat += self.bias\n",
    "        return y_hat\n",
    "    \n",
    "    def forward_vectorized(self, xs):\n",
    "        assert self.weight.shape == xs.shape, \"input shape not match with weights shape.\"\n",
    "        y_hats = np.dot(self.weight, xs)\n",
    "        y_hats += self.bias\n",
    "        return y_hats\n",
    "    \n",
    "    def squared_error(y_hat, y):\n",
    "        error_val = (y_hat - y) ** 2\n",
    "        error_val /= 2\n",
    "        return error_val\n",
    "    \n",
    "    def mean_squared_error(y_hats, ys):\n",
    "        assert y_hats.shape == ys.shape, \"output prediction shape not match with ground truth shape.\"\n",
    "        m = y_hats.shape[0]\n",
    "        temp = y_hats - ys\n",
    "        temp = temp ** 2\n",
    "        temp = np.sum(temp)\n",
    "        temp /= (2 * m)\n",
    "        return temp\n",
    "        \n",
    "    def train(self, xs, ys, upper_error=0.0001, lower_error=-0.0001):\n",
    "        # repeat until minimum.\n",
    "        repeat = True\n",
    "        num_iter = 0\n",
    "        final_error_val = 0\n",
    "        while repeat:\n",
    "            num_iter += 1\n",
    "            y_hats = self.forward_vectorized(xs)\n",
    "            error_val = self.mean_squared_error(y_hats, ys)\n",
    "            if not(error_val <= upper_error and error_val >= lower_error):\n",
    "                # backpropagation.\n",
    "                d_ws = (y_hats - ys) * xs\n",
    "                d_bias = (y_hats - ys)\n",
    "                # simulataneous update.\n",
    "                self.weight = self.weight - self.learning_rate * d_ws\n",
    "                self.bias = self.bias - self.learning_rate * d_bias\n",
    "            else:\n",
    "                final_error_val = error_val\n",
    "                repeat = False\n",
    "        \n",
    "        print(\"training finished. final error {}, # iteration {}\".format(final_error_val, num_iter))\n"
   ]
  },
  {
   "attachments": {},
   "cell_type": "markdown",
   "metadata": {},
   "source": [
    "### Initialize data"
   ]
  },
  {
   "cell_type": "code",
   "execution_count": 23,
   "metadata": {},
   "outputs": [
    {
     "name": "stdout",
     "output_type": "stream",
     "text": [
      "(47, 2) (47,)\n"
     ]
    }
   ],
   "source": [
    "import pandas as pd\n",
    "\n",
    "data_df = pd.read_csv(\"data.csv\")\n",
    "xs = data_df[[\"size\", \"num_bedroom\"]]\n",
    "ys = data_df[\"price\"]\n",
    "print(xs.shape, ys.shape)"
   ]
  },
  {
   "attachments": {},
   "cell_type": "markdown",
   "metadata": {},
   "source": [
    "### Initialize linear model."
   ]
  },
  {
   "cell_type": "code",
   "execution_count": 32,
   "metadata": {},
   "outputs": [
    {
     "name": "stdout",
     "output_type": "stream",
     "text": [
      "# features 2\n",
      "Learning rate 1e-05\n",
      "Bias 0\n"
     ]
    }
   ],
   "source": [
    "lr_model = Linear_Regression_Model(xs.shape[1])\n",
    "print(lr_model)"
   ]
  }
 ],
 "metadata": {
  "kernelspec": {
   "display_name": ".venv",
   "language": "python",
   "name": "python3"
  },
  "language_info": {
   "codemirror_mode": {
    "name": "ipython",
    "version": 3
   },
   "file_extension": ".py",
   "mimetype": "text/x-python",
   "name": "python",
   "nbconvert_exporter": "python",
   "pygments_lexer": "ipython3",
   "version": "3.10.11"
  },
  "orig_nbformat": 4
 },
 "nbformat": 4,
 "nbformat_minor": 2
}
